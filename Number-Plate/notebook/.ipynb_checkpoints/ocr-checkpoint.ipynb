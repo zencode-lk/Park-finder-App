{
 "cells": [
  {
   "cell_type": "code",
   "execution_count": null,
   "id": "775574b3-d295-4bed-987a-ed933009c7c3",
   "metadata": {},
   "outputs": [],
   "source": [
    "conda install pytorch torchvision torchaudio cpuonly -c pytorch\n"
   ]
  },
  {
   "cell_type": "code",
   "execution_count": 14,
   "id": "afde0ced-98cb-4611-9774-8cc1bc0cc6a8",
   "metadata": {},
   "outputs": [
    {
     "name": "stdout",
     "output_type": "stream",
     "text": [
      "Requirement already satisfied: easyocr in c:\\users\\kavindu\\anaconda3\\lib\\site-packages (1.7.1)\n",
      "Requirement already satisfied: torch in c:\\users\\kavindu\\anaconda3\\lib\\site-packages (from easyocr) (2.4.0)\n",
      "Requirement already satisfied: torchvision>=0.5 in c:\\users\\kavindu\\anaconda3\\lib\\site-packages (from easyocr) (0.19.0)\n",
      "Requirement already satisfied: opencv-python-headless in c:\\users\\kavindu\\anaconda3\\lib\\site-packages (from easyocr) (4.10.0.84)\n",
      "Requirement already satisfied: scipy in c:\\users\\kavindu\\anaconda3\\lib\\site-packages (from easyocr) (1.13.1)\n",
      "Requirement already satisfied: numpy in c:\\users\\kavindu\\anaconda3\\lib\\site-packages (from easyocr) (1.26.4)\n",
      "Requirement already satisfied: Pillow in c:\\users\\kavindu\\anaconda3\\lib\\site-packages (from easyocr) (10.3.0)\n",
      "Requirement already satisfied: scikit-image in c:\\users\\kavindu\\anaconda3\\lib\\site-packages (from easyocr) (0.23.2)\n",
      "Requirement already satisfied: python-bidi in c:\\users\\kavindu\\anaconda3\\lib\\site-packages (from easyocr) (0.6.0)\n",
      "Requirement already satisfied: PyYAML in c:\\users\\kavindu\\anaconda3\\lib\\site-packages (from easyocr) (6.0.1)\n",
      "Requirement already satisfied: Shapely in c:\\users\\kavindu\\anaconda3\\lib\\site-packages (from easyocr) (2.0.5)\n",
      "Requirement already satisfied: pyclipper in c:\\users\\kavindu\\anaconda3\\lib\\site-packages (from easyocr) (1.3.0.post5)\n",
      "Requirement already satisfied: ninja in c:\\users\\kavindu\\anaconda3\\lib\\site-packages (from easyocr) (1.11.1.1)\n",
      "Requirement already satisfied: filelock in c:\\users\\kavindu\\anaconda3\\lib\\site-packages (from torch->easyocr) (3.13.1)\n",
      "Requirement already satisfied: typing-extensions>=4.8.0 in c:\\users\\kavindu\\anaconda3\\lib\\site-packages (from torch->easyocr) (4.11.0)\n",
      "Requirement already satisfied: sympy in c:\\users\\kavindu\\anaconda3\\lib\\site-packages (from torch->easyocr) (1.12)\n",
      "Requirement already satisfied: networkx in c:\\users\\kavindu\\anaconda3\\lib\\site-packages (from torch->easyocr) (3.2.1)\n",
      "Requirement already satisfied: jinja2 in c:\\users\\kavindu\\anaconda3\\lib\\site-packages (from torch->easyocr) (3.1.4)\n",
      "Requirement already satisfied: fsspec in c:\\users\\kavindu\\anaconda3\\lib\\site-packages (from torch->easyocr) (2024.3.1)\n",
      "Requirement already satisfied: setuptools in c:\\users\\kavindu\\anaconda3\\lib\\site-packages (from torch->easyocr) (69.5.1)\n",
      "Requirement already satisfied: imageio>=2.33 in c:\\users\\kavindu\\anaconda3\\lib\\site-packages (from scikit-image->easyocr) (2.33.1)\n",
      "Requirement already satisfied: tifffile>=2022.8.12 in c:\\users\\kavindu\\anaconda3\\lib\\site-packages (from scikit-image->easyocr) (2023.4.12)\n",
      "Requirement already satisfied: packaging>=21 in c:\\users\\kavindu\\anaconda3\\lib\\site-packages (from scikit-image->easyocr) (23.2)\n",
      "Requirement already satisfied: lazy-loader>=0.4 in c:\\users\\kavindu\\anaconda3\\lib\\site-packages (from scikit-image->easyocr) (0.4)\n",
      "Requirement already satisfied: MarkupSafe>=2.0 in c:\\users\\kavindu\\anaconda3\\lib\\site-packages (from jinja2->torch->easyocr) (2.1.3)\n",
      "Requirement already satisfied: mpmath>=0.19 in c:\\users\\kavindu\\anaconda3\\lib\\site-packages (from sympy->torch->easyocr) (1.3.0)\n",
      "Note: you may need to restart the kernel to use updated packages.\n"
     ]
    }
   ],
   "source": [
    "pip install easyocr"
   ]
  },
  {
   "cell_type": "code",
   "execution_count": null,
   "id": "955fea61-4801-4ef2-a3c6-3fbaeee9e270",
   "metadata": {},
   "outputs": [],
   "source": [
    "import easyocr\n",
    "import cv2\n",
    "from matplotlib import pyplot as plt\n",
    "import numpy as np"
   ]
  },
  {
   "cell_type": "code",
   "execution_count": null,
   "id": "410876b7-c153-4651-8403-b4057fef7c25",
   "metadata": {},
   "outputs": [],
   "source": [
    "IMAGE_PATH = 'E:\\Pthon projects\\Number-Plate\\plates\\scaned_img_0.jpg'\n",
    "#IMAGE_PATH = 'surf.jpeg'"
   ]
  },
  {
   "cell_type": "code",
   "execution_count": 12,
   "id": "77eb4260-0a1e-461c-817f-a8916bf82f5d",
   "metadata": {},
   "outputs": [
    {
     "ename": "NameError",
     "evalue": "name 'easyocr' is not defined",
     "output_type": "error",
     "traceback": [
      "\u001b[1;31m---------------------------------------------------------------------------\u001b[0m",
      "\u001b[1;31mNameError\u001b[0m                                 Traceback (most recent call last)",
      "Cell \u001b[1;32mIn[12], line 1\u001b[0m\n\u001b[1;32m----> 1\u001b[0m reader \u001b[38;5;241m=\u001b[39m easyocr\u001b[38;5;241m.\u001b[39mReader([\u001b[38;5;124m'\u001b[39m\u001b[38;5;124men\u001b[39m\u001b[38;5;124m'\u001b[39m])\n\u001b[0;32m      2\u001b[0m result \u001b[38;5;241m=\u001b[39m reader\u001b[38;5;241m.\u001b[39mreadtext(IMAGE_PATH)\n\u001b[0;32m      3\u001b[0m result\n",
      "\u001b[1;31mNameError\u001b[0m: name 'easyocr' is not defined"
     ]
    }
   ],
   "source": [
    "reader = easyocr.Reader(['en'])\n",
    "result = reader.readtext(IMAGE_PATH)\n",
    "result"
   ]
  },
  {
   "cell_type": "code",
   "execution_count": null,
   "id": "97df63ad-c12b-4bab-a19b-de97c0f7e24b",
   "metadata": {},
   "outputs": [],
   "source": []
  }
 ],
 "metadata": {
  "kernelspec": {
   "display_name": "Python 3 (ipykernel)",
   "language": "python",
   "name": "python3"
  },
  "language_info": {
   "codemirror_mode": {
    "name": "ipython",
    "version": 3
   },
   "file_extension": ".py",
   "mimetype": "text/x-python",
   "name": "python",
   "nbconvert_exporter": "python",
   "pygments_lexer": "ipython3",
   "version": "3.12.4"
  }
 },
 "nbformat": 4,
 "nbformat_minor": 5
}
